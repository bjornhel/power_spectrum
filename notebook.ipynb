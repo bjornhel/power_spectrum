{
 "cells": [
  {
   "cell_type": "markdown",
   "id": "6e7b34c2",
   "metadata": {},
   "source": [
    "Set up the environemt and logger:"
   ]
  },
  {
   "cell_type": "code",
   "execution_count": null,
   "id": "5642b872",
   "metadata": {},
   "outputs": [],
   "source": [
    "import logging\n",
    "import pandas as pd\n",
    "\n",
    "# Import my functions:\n",
    "from import_dicom import read_data, main as run_import_dicom_main\n",
    "from project_data import ProjectData\n",
    "from logging_config import configure_module_logging\n",
    "\n",
    "# Configure a root logger for all modules:\n",
    "configure_module_logging({\n",
    "    '': {'file': 'notebook.log', 'level': logging.DEBUG, 'console': False}}\n",
    "    )\n",
    "# Start a logger for this notebook:\n",
    "logger = logging.getLogger()\n",
    "logger.info('Notebook logging configured.')\n",
    "\n",
    "# If the df.pkl file exists, load it:\n",
    "try:\n",
    "    df = pd.read_pickle('df.pkl')\n",
    "    logger.info('Loaded df.pkl.')\n",
    "except FileNotFoundError:\n",
    "    logger.info('df.pkl not found, will create it.')\n",
    "    root_dir = r\"/home/bhosteras/Kode/power_spectrum/Fantomscan/\"\n",
    "    df = read_data(root_dir)\n",
    "    del root_dir\n",
    "    df.to_pickle('df.pkl')\n",
    "    logger.info('Dataframe saved to df.pkl')\n"
   ]
  },
  {
   "cell_type": "code",
   "execution_count": null,
   "id": "68066e6c",
   "metadata": {},
   "outputs": [],
   "source": [
    "project = ProjectData('Fantom', df)\n",
    "overview = project.series_overview"
   ]
  }
 ],
 "metadata": {
  "kernelspec": {
   "display_name": "BHPython313",
   "language": "python",
   "name": "python3"
  },
  "language_info": {
   "codemirror_mode": {
    "name": "ipython",
    "version": 3
   },
   "file_extension": ".py",
   "mimetype": "text/x-python",
   "name": "python",
   "nbconvert_exporter": "python",
   "pygments_lexer": "ipython3",
   "version": "3.13.2"
  }
 },
 "nbformat": 4,
 "nbformat_minor": 5
}
