{
 "cells": [
  {
   "cell_type": "code",
   "execution_count": 1,
   "id": "5642b872",
   "metadata": {},
   "outputs": [],
   "source": [
    "import logging\n",
    "import pandas as pd\n",
    "\n",
    "# Import my functions:\n",
    "from import_dicom import read_data, main as run_import_dicom_main\n",
    "from project_data import ProjectData\n",
    "from logging_config import configure_module_logging\n",
    "\n",
    "# Configure a root logger for all modules:\n",
    "configure_module_logging({\n",
    "    '': {'file': 'notebook.log', 'level': logging.DEBUG, 'console': False}}\n",
    "    )\n",
    "# Start a logger for this notebook:\n",
    "logger = logging.getLogger()\n",
    "logger.info('Notebook logging configured.')\n",
    "\n",
    "# If the df.pkl file exists, load it:\n",
    "try:\n",
    "    df = pd.read_pickle('Data/df.pkl')\n",
    "    logger.info('Loaded df.pkl.')\n",
    "except FileNotFoundError:\n",
    "    logger.info('df.pkl not found, will create it.')\n",
    "    root_dir = r\"/home/bhosteras/Kode/power_spectrum/Fantomscan/Claripy Eple og Mandarin/\"\n",
    "    df = read_data(root_dir)\n",
    "    del root_dir\n",
    "    df.to_pickle('Data/df.pkl')\n",
    "    logger.info('Dataframe saved to df.pkl')"
   ]
  },
  {
   "cell_type": "code",
   "execution_count": 10,
   "id": "e7ea8cc1",
   "metadata": {},
   "outputs": [
    {
     "name": "stdout",
     "output_type": "stream",
     "text": [
      "Modules reloaded: ['ct_series', 'import_dicom', 'project_data']\n"
     ]
    }
   ],
   "source": [
    "import importlib\n",
    "import sys\n",
    "modules_to_reload = [\n",
    "    \"ct_series\",\n",
    "    \"import_dicom\",\n",
    "    \"project_data\"]\n",
    "\n",
    "for mod in modules_to_reload:\n",
    "    if mod in sys.modules:\n",
    "        importlib.reload(sys.modules[mod])\n",
    "    else:\n",
    "        __import__(mod)\n",
    "print(\"Modules reloaded:\", modules_to_reload)\n",
    "\n",
    "del modules_to_reload, mod"
   ]
  },
  {
   "cell_type": "code",
   "execution_count": 11,
   "id": "334d62e3",
   "metadata": {},
   "outputs": [
    {
     "name": "stderr",
     "output_type": "stream",
     "text": [
      "/home/bhosteras/Kode/power_spectrum/project_data.py:269: FutureWarning: The behavior of DataFrame concatenation with empty or all-NA entries is deprecated. In a future version, this will no longer exclude empty or all-NA columns when determining the result dtypes. To retain the old behavior, exclude the relevant entries before the concat operation.\n",
      "  self.series_overview = pd.concat([self.series_overview, new_row_df], ignore_index=True)\n"
     ]
    }
   ],
   "source": [
    "# Delete project, overview and series if they exist:\n",
    "try:\n",
    "    del project\n",
    "    del overview\n",
    "    del series\n",
    "except NameError:\n",
    "    pass\n",
    "\n",
    "project = ProjectData('Fantom', df)\n",
    "overview = project.series_overview\n",
    "series = project.list_of_series"
   ]
  },
  {
   "cell_type": "code",
   "execution_count": 14,
   "id": "1708dc9c",
   "metadata": {},
   "outputs": [],
   "source": [
    "for i in range(len(series)):\n",
    "    series[i].store_pixel_data(delete_memory=True)"
   ]
  },
  {
   "cell_type": "code",
   "execution_count": 15,
   "id": "2a9498ca",
   "metadata": {},
   "outputs": [],
   "source": [
    "for i in range(len(series)):\n",
    "    series[i].load_stored_pixel_data(delete_stored=False)"
   ]
  }
 ],
 "metadata": {
  "kernelspec": {
   "display_name": "BHPython313",
   "language": "python",
   "name": "python3"
  },
  "language_info": {
   "codemirror_mode": {
    "name": "ipython",
    "version": 3
   },
   "file_extension": ".py",
   "mimetype": "text/x-python",
   "name": "python",
   "nbconvert_exporter": "python",
   "pygments_lexer": "ipython3",
   "version": "3.13.2"
  }
 },
 "nbformat": 4,
 "nbformat_minor": 5
}
