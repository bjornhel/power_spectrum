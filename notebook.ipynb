{
 "cells": [
  {
   "cell_type": "code",
   "execution_count": null,
   "id": "5642b872",
   "metadata": {},
   "outputs": [],
   "source": [
    "import logging\n",
    "import pandas as pd\n",
    "\n",
    "# Import my functions:\n",
    "from import_dicom import read_data, main as run_import_dicom_main\n",
    "from project_data import ProjectData\n",
    "from logging_config import configure_module_logging\n",
    "\n",
    "# Configure a root logger for all modules:\n",
    "configure_module_logging({\n",
    "    '': {'file': 'notebook.log', 'level': logging.DEBUG, 'console': False}}\n",
    "    )\n",
    "# Start a logger for this notebook:\n",
    "logger = logging.getLogger()\n",
    "logger.info('Notebook logging configured.')\n",
    "\n",
    "# If the df.pkl file exists, load it:\n",
    "try:\n",
    "    df = pd.read_pickle('Data/df.pkl')\n",
    "    logger.info('Loaded df.pkl.')\n",
    "except FileNotFoundError:\n",
    "    logger.info('df.pkl not found, will create it.')\n",
    "    root_dir = r\"/home/bhosteras/Kode/power_spectrum/Fantomscan/Claripy Eple og Mandarin/\"\n",
    "    df = read_data(root_dir)\n",
    "    del root_dir\n",
    "    df.to_pickle('Data/df.pkl')\n",
    "    logger.info('Dataframe saved to df.pkl')\n"
   ]
  },
  {
   "cell_type": "code",
   "execution_count": null,
   "id": "e7ea8cc1",
   "metadata": {},
   "outputs": [],
   "source": [
    "import importlib\n",
    "import sys\n",
    "modules_to_reload = [\n",
    "    \"ct_series\",\n",
    "    \"ct_super_series\",\n",
    "    \"import_dicom\",\n",
    "    \"project_data\"]\n",
    "\n",
    "for mod in modules_to_reload:\n",
    "    if mod in sys.modules:\n",
    "        importlib.reload(sys.modules[mod])\n",
    "    else:\n",
    "        __import__(mod)\n",
    "print(\"Modules reloaded:\", modules_to_reload)\n",
    "\n",
    "del modules_to_reload, mod"
   ]
  },
  {
   "cell_type": "code",
   "execution_count": null,
   "id": "334d62e3",
   "metadata": {},
   "outputs": [],
   "source": [
    "# Delete project, overview and series if they exist:\n",
    "try:\n",
    "    del project\n",
    "    del overview\n",
    "    del series\n",
    "except NameError:\n",
    "    pass\n",
    "\n",
    "project = ProjectData('Fantom', df)\n",
    "overview = project.series_overview\n",
    "series = project.list_of_series"
   ]
  },
  {
   "cell_type": "code",
   "execution_count": null,
   "id": "7bb05576",
   "metadata": {},
   "outputs": [],
   "source": [
    "tag_values = {'SeriesDescription': '[ClariCT.AI] Claripi 1.0  Hr40  3',\n",
    "              'MatrixSize': 512}\n",
    "\n",
    "selected_series = project.select_similar_series(tag_values)"
   ]
  },
  {
   "cell_type": "code",
   "execution_count": null,
   "id": "afb02505",
   "metadata": {},
   "outputs": [],
   "source": [
    "import ct_super_series as cts\n",
    "SuperS = cts.CTSuperSeries(selected_series)"
   ]
  },
  {
   "cell_type": "code",
   "execution_count": null,
   "id": "2d77f332",
   "metadata": {},
   "outputs": [],
   "source": [
    "SuperS.generate_pixel_data_individual()\n",
    "px_ind = SuperS.pixel_data_individual\n",
    "SuperS.generate_mean_image()\n",
    "px_mean = SuperS.pixel_data_super_series\n",
    "SuperS.generate_std_image()\n",
    "px_std = SuperS.pixel_data_std_series\n"
   ]
  },
  {
   "cell_type": "code",
   "execution_count": null,
   "id": "a264e87e",
   "metadata": {},
   "outputs": [],
   "source": [
    "# Plot the mean image;\n",
    "import matplotlib.pyplot as plt\n",
    "# Make the plot larger:\n",
    "plt.figure(figsize=(10, 10))\n",
    "plt.imshow(px_mean[:,:,1], cmap='gray')\n",
    "plt.title('Mean Image')\n",
    "plt.axis('off')\n",
    "plt.show()"
   ]
  },
  {
   "cell_type": "code",
   "execution_count": null,
   "id": "f1e16bf6",
   "metadata": {},
   "outputs": [],
   "source": [
    "# Plot the std image;\n",
    "import matplotlib.pyplot as plt\n",
    "# Make the plot larger:\n",
    "plt.figure(figsize=(10, 10))\n",
    "plt.imshow(px_std[:,:,1], cmap='gray')\n",
    "plt.title('Mean Image')\n",
    "plt.axis('off')\n",
    "plt.show()"
   ]
  }
 ],
 "metadata": {
  "kernelspec": {
   "display_name": "BHPython313",
   "language": "python",
   "name": "python3"
  },
  "language_info": {
   "codemirror_mode": {
    "name": "ipython",
    "version": 3
   },
   "file_extension": ".py",
   "mimetype": "text/x-python",
   "name": "python",
   "nbconvert_exporter": "python",
   "pygments_lexer": "ipython3",
   "version": "3.13.2"
  }
 },
 "nbformat": 4,
 "nbformat_minor": 5
}
