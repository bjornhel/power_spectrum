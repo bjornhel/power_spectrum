{
 "cells": [
  {
   "cell_type": "code",
   "execution_count": null,
   "id": "5642b872",
   "metadata": {},
   "outputs": [],
   "source": [
    "import import_dicom\n",
    "# Setup logging:\n",
    "from logging_config import configure_module_logging\n",
    "import logging\n",
    "\n",
    "# Configure a root logger for all modules:\n",
    "configure_module_logging({\n",
    "    '': {'file': 'notebook.log', 'level': logging.DEBUG, 'console': True}}\n",
    "    )\n",
    "# Start a logger for this notebook:\n",
    "logger = logging.getLogger()\n",
    "logger.info('Notebook logging configured.')\n",
    "\n",
    "df = import_dicom.main()"
   ]
  }
 ],
 "metadata": {
  "kernelspec": {
   "display_name": "BHPython313",
   "language": "python",
   "name": "python3"
  },
  "language_info": {
   "codemirror_mode": {
    "name": "ipython",
    "version": 3
   },
   "file_extension": ".py",
   "mimetype": "text/x-python",
   "name": "python",
   "nbconvert_exporter": "python",
   "pygments_lexer": "ipython3",
   "version": "3.13.2"
  }
 },
 "nbformat": 4,
 "nbformat_minor": 5
}
